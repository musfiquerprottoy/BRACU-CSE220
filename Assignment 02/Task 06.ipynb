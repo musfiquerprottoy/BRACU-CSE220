{
 "cells": [
  {
   "cell_type": "code",
   "execution_count": 2,
   "metadata": {},
   "outputs": [],
   "source": [
    "import numpy as np "
   ]
  },
  {
   "cell_type": "markdown",
   "metadata": {},
   "source": [
    "You must Run this cell for your driver code to execute successfully"
   ]
  },
  {
   "cell_type": "code",
   "execution_count": 3,
   "metadata": {},
   "outputs": [],
   "source": [
    "class Node:\n",
    "  def __init__(self,elem,next = None):\n",
    "    self.elem,self.next = elem,next\n",
    "\n",
    "def createList(arr):\n",
    "  head = Node(arr[0])\n",
    "  tail = head\n",
    "  for i in range(1,len(arr)):\n",
    "    newNode = Node(arr[i])\n",
    "    tail.next = newNode\n",
    "    tail = newNode\n",
    "  return head\n",
    "\n",
    "def printLinkedList(head):\n",
    "  temp = head\n",
    "  while temp != None:\n",
    "    if temp.next != None:\n",
    "      print(temp.elem, end = '-->')\n",
    "    else:\n",
    "      print(temp.elem)\n",
    "    temp = temp.next\n",
    "  print()"
   ]
  },
  {
   "cell_type": "markdown",
   "metadata": {},
   "source": [
    "Task 6: Sum of Nodes"
   ]
  },
  {
   "cell_type": "code",
   "execution_count": 4,
   "metadata": {},
   "outputs": [
    {
     "name": "stdout",
     "output_type": "stream",
     "text": [
      "==============Test Case 1=============\n",
      "Sum of Nodes: 4\n",
      "\n"
     ]
    }
   ],
   "source": [
    "def sum_dist(head, arr):\n",
    "  #TO DO\n",
    "  sum = 0\n",
    "  for distance in arr:\n",
    "    current = head\n",
    "    for i in range(distance):\n",
    "      if current.next:\n",
    "        current = current.next\n",
    "      else:\n",
    "        break\n",
    "  sum += current.elem\n",
    "  return sum\n",
    "\n",
    "\n",
    "\n",
    "print('==============Test Case 1=============')\n",
    "LL1 = createList(np.array([10,16,-5,9,3,4]))\n",
    "dist = np.array([2,0,5,2,8])\n",
    "returned_value = sum_dist(LL1, dist)\n",
    "print(f'Sum of Nodes: {returned_value}') #This should print Sum of Nodes: 4\n",
    "print()"
   ]
  }
 ],
 "metadata": {
  "kernelspec": {
   "display_name": "Python 3",
   "language": "python",
   "name": "python3"
  },
  "language_info": {
   "codemirror_mode": {
    "name": "ipython",
    "version": 3
   },
   "file_extension": ".py",
   "mimetype": "text/x-python",
   "name": "python",
   "nbconvert_exporter": "python",
   "pygments_lexer": "ipython3",
   "version": "3.12.3"
  }
 },
 "nbformat": 4,
 "nbformat_minor": 2
}
