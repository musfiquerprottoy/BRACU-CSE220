{
 "cells": [
  {
   "cell_type": "code",
   "execution_count": 3,
   "metadata": {},
   "outputs": [],
   "source": [
    "import numpy as np"
   ]
  },
  {
   "cell_type": "markdown",
   "metadata": {},
   "source": [
    "You must Run this cell for your driver code to execute successfully "
   ]
  },
  {
   "cell_type": "code",
   "execution_count": 5,
   "metadata": {},
   "outputs": [],
   "source": [
    "class Node:\n",
    "  def __init__(self,elem,next = None):\n",
    "    self.elem,self.next = elem,next\n",
    "\n",
    "def createList(arr):\n",
    "  head = Node(arr[0])\n",
    "  tail = head\n",
    "  for i in range(1,len(arr)):\n",
    "    newNode = Node(arr[i])\n",
    "    tail.next = newNode\n",
    "    tail = newNode\n",
    "  return head\n",
    "\n",
    "def printLinkedList(head):\n",
    "  temp = head\n",
    "  while temp != None:\n",
    "    if temp.next != None:\n",
    "      print(temp.elem, end = '-->')\n",
    "    else:\n",
    "      print(temp.elem)\n",
    "    temp = temp.next\n",
    "  print()"
   ]
  },
  {
   "cell_type": "markdown",
   "metadata": {},
   "source": [
    "Task 5: Alternate Merge\n"
   ]
  },
  {
   "cell_type": "code",
   "execution_count": 6,
   "metadata": {},
   "outputs": [
    {
     "name": "stdout",
     "output_type": "stream",
     "text": [
      "==============Test Case 1=============\n",
      "Linked List 1:\n",
      "1-->2-->6-->8-->11\n",
      "\n",
      "Linked List 2:\n",
      "5-->7-->3-->9-->4\n",
      "\n",
      "Merged Linked List:\n",
      "1-->5-->2-->7-->6-->3-->8-->9-->11-->4\n",
      "\n",
      "==============Test Case 2=============\n",
      "Linked List 1:\n",
      "5-->3-->2-->-4\n",
      "\n",
      "Linked List 2:\n",
      "-4-->-6-->1\n",
      "\n",
      "Merged Linked List:\n",
      "5-->-4-->3-->-6-->2-->1-->-4\n",
      "\n",
      "==============Test Case 3=============\n",
      "Linked List 1:\n",
      "4-->2-->-2-->-4\n",
      "\n",
      "Linked List 2:\n",
      "8-->6-->5-->-3\n",
      "\n",
      "Merged Linked List:\n",
      "4-->8-->2-->6-->-2-->5-->-4-->-3\n",
      "\n"
     ]
    }
   ],
   "source": [
    "def alternate_merge(head1, head2):\n",
    "  #TO DO\n",
    "  first_head = head1\n",
    "  current1 = head1\n",
    "  current2 = head2\n",
    "\n",
    "  while current1 and current2:\n",
    "    next1 = current1.next\n",
    "    next2 = current2.next\n",
    "\n",
    "    current1.next = current2\n",
    "    current2.next = next1\n",
    "\n",
    "    current1 = next1\n",
    "    current2 = next2\n",
    "  return first_head\n",
    "\n",
    "\n",
    "print('==============Test Case 1=============')\n",
    "head1 = createList(np.array([1,2,6,8,11]))\n",
    "head2 = createList(np.array([5,7,3,9,4]))\n",
    "\n",
    "print(\"Linked List 1:\")\n",
    "printLinkedList(head1)\n",
    "print(\"Linked List 2:\")\n",
    "printLinkedList(head2)\n",
    "\n",
    "head = alternate_merge(head1, head2)\n",
    "print(\"Merged Linked List:\")\n",
    "printLinkedList(head)    #This should print    1 --> 5 --> 2 --> 7 --> 6 --> 3 --> 8 --> 9 --> 11 --> 4\n",
    "\n",
    "\n",
    "print('==============Test Case 2=============')\n",
    "head1 = createList(np.array([5, 3, 2, -4]))\n",
    "head2 = createList(np.array([-4, -6, 1]))\n",
    "\n",
    "print(\"Linked List 1:\")\n",
    "printLinkedList(head1)\n",
    "print(\"Linked List 2:\")\n",
    "printLinkedList(head2)\n",
    "\n",
    "head = alternate_merge(head1, head2)\n",
    "print(\"Merged Linked List:\")\n",
    "printLinkedList(head)    #This should print    5 → -4 -> 3 → -6 -> 2 -> 1 -> -4\n",
    "\n",
    "\n",
    "print('==============Test Case 3=============')\n",
    "head1 = createList(np.array([4, 2, -2, -4]))\n",
    "head2 = createList(np.array([8, 6, 5, -3]))\n",
    "\n",
    "print(\"Linked List 1:\")\n",
    "printLinkedList(head1)\n",
    "print(\"Linked List 2:\")\n",
    "printLinkedList(head2)\n",
    "\n",
    "head = alternate_merge(head1, head2)\n",
    "print(\"Merged Linked List:\")\n",
    "printLinkedList(head)    #This should print   4-> 8 → 2-> 6 → -2 → 5 → -4 -> -3\n"
   ]
  }
 ],
 "metadata": {
  "kernelspec": {
   "display_name": "Python 3",
   "language": "python",
   "name": "python3"
  },
  "language_info": {
   "codemirror_mode": {
    "name": "ipython",
    "version": 3
   },
   "file_extension": ".py",
   "mimetype": "text/x-python",
   "name": "python",
   "nbconvert_exporter": "python",
   "pygments_lexer": "ipython3",
   "version": "3.12.3"
  }
 },
 "nbformat": 4,
 "nbformat_minor": 2
}
