{
 "cells": [
  {
   "cell_type": "code",
   "execution_count": 3,
   "metadata": {},
   "outputs": [],
   "source": [
    "import numpy as np "
   ]
  },
  {
   "cell_type": "markdown",
   "metadata": {},
   "source": [
    "You must Run this cell for your driver code to execute successfully"
   ]
  },
  {
   "cell_type": "code",
   "execution_count": 4,
   "metadata": {},
   "outputs": [],
   "source": [
    "class Node:\n",
    "  def __init__(self,elem,next = None):\n",
    "    self.elem,self.next = elem,next\n",
    "\n",
    "def createList(arr):\n",
    "  head = Node(arr[0])\n",
    "  tail = head\n",
    "  for i in range(1,len(arr)):\n",
    "    newNode = Node(arr[i])\n",
    "    tail.next = newNode\n",
    "    tail = newNode\n",
    "  return head\n",
    "\n",
    "def printLinkedList(head):\n",
    "  temp = head\n",
    "  while temp != None:\n",
    "    if temp.next != None:\n",
    "      print(temp.elem, end = '-->')\n",
    "    else:\n",
    "      print(temp.elem)\n",
    "    temp = temp.next\n",
    "  print()"
   ]
  },
  {
   "cell_type": "markdown",
   "metadata": {},
   "source": [
    "Task 3: Assemble Conga Line\n"
   ]
  },
  {
   "cell_type": "code",
   "execution_count": 6,
   "metadata": {},
   "outputs": [
    {
     "name": "stdout",
     "output_type": "stream",
     "text": [
      "==============Test Case 1=============\n",
      "Original Conga Line:  10-->15-->34-->41-->56-->72\n",
      "\n",
      "True\n",
      "\n",
      "==============Test Case 2=============\n",
      "Original Conga Line:  10-->15-->44-->41-->56-->72\n",
      "\n",
      "False\n",
      "\n"
     ]
    }
   ],
   "source": [
    "def assemble_conga_line(conga_line):\n",
    "  #TO DO\n",
    "  ret = True\n",
    "  current = conga_line\n",
    "  while current and current.next:\n",
    "    if current.elem > current.next.elem:\n",
    "      return False\n",
    "    current = current.next\n",
    "  return True\n",
    "\n",
    "print('==============Test Case 1=============')\n",
    "conga_line = createList(np.array([10,15,34,41,56,72]))\n",
    "print('Original Conga Line: ', end = ' ')\n",
    "printLinkedList(conga_line)\n",
    "returned_value = assemble_conga_line(conga_line)\n",
    "print(returned_value) #This should print True\n",
    "print()\n",
    "print('==============Test Case 2=============')\n",
    "conga_line = createList(np.array([10,15,44,41,56,72]))\n",
    "print('Original Conga Line: ', end = ' ')\n",
    "printLinkedList(conga_line)\n",
    "returned_value = assemble_conga_line(conga_line)\n",
    "print(returned_value) #This should print False\n",
    "print()"
   ]
  }
 ],
 "metadata": {
  "kernelspec": {
   "display_name": "Python 3",
   "language": "python",
   "name": "python3"
  },
  "language_info": {
   "codemirror_mode": {
    "name": "ipython",
    "version": 3
   },
   "file_extension": ".py",
   "mimetype": "text/x-python",
   "name": "python",
   "nbconvert_exporter": "python",
   "pygments_lexer": "ipython3",
   "version": "3.12.3"
  }
 },
 "nbformat": 4,
 "nbformat_minor": 2
}
