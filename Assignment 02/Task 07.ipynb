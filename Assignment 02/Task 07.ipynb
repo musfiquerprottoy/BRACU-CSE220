{
 "cells": [
  {
   "cell_type": "code",
   "execution_count": 3,
   "metadata": {},
   "outputs": [],
   "source": [
    "import numpy as np "
   ]
  },
  {
   "cell_type": "markdown",
   "metadata": {},
   "source": [
    "You must Run this cell for your driver code to execute successfully"
   ]
  },
  {
   "cell_type": "code",
   "execution_count": 4,
   "metadata": {},
   "outputs": [],
   "source": [
    "class Node:\n",
    "  def __init__(self,elem,next = None):\n",
    "    self.elem,self.next = elem,next\n",
    "\n",
    "def createList(arr):\n",
    "  head = Node(arr[0])\n",
    "  tail = head\n",
    "  for i in range(1,len(arr)):\n",
    "    newNode = Node(arr[i])\n",
    "    tail.next = newNode\n",
    "    tail = newNode\n",
    "  return head\n",
    "\n",
    "def printLinkedList(head):\n",
    "  temp = head\n",
    "  while temp != None:\n",
    "    if temp.next != None:\n",
    "      print(temp.elem, end = '-->')\n",
    "    else:\n",
    "      print(temp.elem)\n",
    "    temp = temp.next\n",
    "  print()"
   ]
  },
  {
   "cell_type": "markdown",
   "metadata": {},
   "source": [
    "Bonus Task: ID Generator\n"
   ]
  },
  {
   "cell_type": "code",
   "execution_count": 5,
   "metadata": {},
   "outputs": [
    {
     "ename": "IndentationError",
     "evalue": "expected an indented block after function definition on line 1 (4158169819.py, line 5)",
     "output_type": "error",
     "traceback": [
      "\u001b[0;36m  Cell \u001b[0;32mIn[5], line 5\u001b[0;36m\u001b[0m\n\u001b[0;31m    print('==============Test Case 1=============')\u001b[0m\n\u001b[0m    ^\u001b[0m\n\u001b[0;31mIndentationError\u001b[0m\u001b[0;31m:\u001b[0m expected an indented block after function definition on line 1\n"
     ]
    }
   ],
   "source": [
    "def idGenerator(head1, head2, head3):\n",
    "  #TO DO\n",
    "\n",
    "\n",
    "print('==============Test Case 1=============')\n",
    "head1 = createList(np.array([0,3,2,2]))\n",
    "head2 = createList(np.array([5,2,2,1]))\n",
    "head3 = createList(np.array([4,3,2,1]))\n",
    "\n",
    "print(\"Linked List 1:\")\n",
    "printLinkedList(head1)\n",
    "print(\"Linked List 2:\")\n",
    "printLinkedList(head2)\n",
    "print(\"Linked List 3:\")\n",
    "printLinkedList(head3)\n",
    "\n",
    "result = idGenerator(head1, head2, head3)\n",
    "print(\"New ID:\")\n",
    "printLinkedList(result)    #This should print  2 → 2 → 3 → 0 → 9 → 5 → 4 → 2\n",
    "\n",
    "\n",
    "print('==============Test Case 2=============')\n",
    "head1 = createList(np.array([0,3,9,1]))\n",
    "head2 = createList(np.array([3,6,5,7]))\n",
    "head3 = createList(np.array([2,4,3,8]))\n",
    "\n",
    "print(\"Linked List 1:\")\n",
    "printLinkedList(head1)\n",
    "print(\"Linked List 2:\")\n",
    "printLinkedList(head2)\n",
    "print(\"Linked List 3:\")\n",
    "printLinkedList(head3)\n",
    "\n",
    "result = idGenerator(head1, head2, head3)\n",
    "print(\"New ID:\")\n",
    "printLinkedList(result)    #This should print 1 → 9 → 3 → 0 → 5 → 0 → 8 → 5"
   ]
  }
 ],
 "metadata": {
  "kernelspec": {
   "display_name": "Python 3",
   "language": "python",
   "name": "python3"
  },
  "language_info": {
   "codemirror_mode": {
    "name": "ipython",
    "version": 3
   },
   "file_extension": ".py",
   "mimetype": "text/x-python",
   "name": "python",
   "nbconvert_exporter": "python",
   "pygments_lexer": "ipython3",
   "version": "3.12.3"
  }
 },
 "nbformat": 4,
 "nbformat_minor": 2
}
