{
 "cells": [
  {
   "cell_type": "code",
   "execution_count": 2,
   "metadata": {},
   "outputs": [],
   "source": [
    "import numpy as np"
   ]
  },
  {
   "cell_type": "markdown",
   "metadata": {},
   "source": [
    "You must Run this cell for your driver code to execute successfully"
   ]
  },
  {
   "cell_type": "code",
   "execution_count": 3,
   "metadata": {},
   "outputs": [],
   "source": [
    "class Node:\n",
    "  def __init__(self,elem,next = None):\n",
    "    self.elem,self.next = elem,next\n",
    "\n",
    "def createList(arr):\n",
    "  head = Node(arr[0])\n",
    "  tail = head\n",
    "  for i in range(1,len(arr)):\n",
    "    newNode = Node(arr[i])\n",
    "    tail.next = newNode\n",
    "    tail = newNode\n",
    "  return head\n",
    "\n",
    "def printLinkedList(head):\n",
    "  temp = head\n",
    "  while temp != None:\n",
    "    if temp.next != None:\n",
    "      print(temp.elem, end = '-->')\n",
    "    else:\n",
    "      print(temp.elem)\n",
    "    temp = temp.next\n",
    "  print()"
   ]
  },
  {
   "cell_type": "markdown",
   "metadata": {},
   "source": [
    "Task 4: Word Decoder\n"
   ]
  },
  {
   "cell_type": "code",
   "execution_count": 4,
   "metadata": {},
   "outputs": [
    {
     "name": "stdout",
     "output_type": "stream",
     "text": [
      "==============Test Case 1=============\n",
      "Encoded Word:\n",
      "B-->M-->D-->T-->N-->O-->A-->P-->S-->C\n",
      "\n",
      "Decoded Word:\n",
      "None-->S-->O-->D\n",
      "\n",
      "==============Test Case 2=============\n",
      "Encoded Word:\n",
      "Z-->O-->T-->N-->X\n",
      "\n",
      "Decoded Word:\n",
      "None-->T\n",
      "\n"
     ]
    }
   ],
   "source": [
    "def word_Decoder(head):\n",
    "    #TO DO\n",
    "    length = 0\n",
    "    current = head\n",
    "    while current:\n",
    "      length += 1\n",
    "      current = current.next\n",
    "    step = 13%length\n",
    "    chars = []\n",
    "    current = head\n",
    "    for i in range(length):\n",
    "      if i % step == (step-1):\n",
    "        chars.append(current.elem)\n",
    "      current = current.next\n",
    "\n",
    "    chars = chars[::-1]\n",
    "    result = Node(\"None\")\n",
    "    current = result\n",
    "\n",
    "    for char in chars:\n",
    "      current.next = Node(char)\n",
    "      current = current.next\n",
    "\n",
    "    return result\n",
    "\n",
    "\n",
    "\n",
    "#Driver Code\n",
    "print('==============Test Case 1=============')\n",
    "head = createList(np.array(['B', 'M', 'D', 'T', 'N', 'O', 'A', 'P', 'S', 'C']))\n",
    "print(\"Encoded Word:\")\n",
    "printLinkedList(head) #This should print B→M→D→T→N→O→A→P→S→C\n",
    "\n",
    "result = word_Decoder(head)\n",
    "print(\"Decoded Word:\")\n",
    "printLinkedList(result)    #This should print None→C→A→T\n",
    "\n",
    "print('==============Test Case 2=============')\n",
    "\n",
    "head = createList(np.array(['Z', 'O', 'T', 'N', 'X']))\n",
    "print(\"Encoded Word:\")\n",
    "printLinkedList(head) #This should print Z→O→T→N→X\n",
    "\n",
    "result = word_Decoder(head)\n",
    "print(\"Decoded Word:\")\n",
    "printLinkedList(result)    #This should print None→N\n",
    "\n"
   ]
  }
 ],
 "metadata": {
  "kernelspec": {
   "display_name": "Python 3",
   "language": "python",
   "name": "python3"
  },
  "language_info": {
   "codemirror_mode": {
    "name": "ipython",
    "version": 3
   },
   "file_extension": ".py",
   "mimetype": "text/x-python",
   "name": "python",
   "nbconvert_exporter": "python",
   "pygments_lexer": "ipython3",
   "version": "3.12.3"
  }
 },
 "nbformat": 4,
 "nbformat_minor": 2
}
